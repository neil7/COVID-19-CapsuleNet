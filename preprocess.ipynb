{
 "cells": [
  {
   "cell_type": "markdown",
   "metadata": {},
   "source": [
    "# Data Generator"
   ]
  },
  {
   "cell_type": "code",
   "execution_count": null,
   "metadata": {},
   "outputs": [],
   "source": [
    "from keras.preprocessing.image import img_to_array,load_img\n",
    "#from sklearn.preprocessing import StandardScaler\n",
    "import numpy as np \n",
    "import os \n",
    "# from scipy.misc import imresize \n",
    "#import argparse\n",
    "\n",
    "image_store = []\n",
    "    \n",
    "    \n",
    "\n",
    "#List of all Videos in the Source Directory. \n",
    "#videos=os.listdir(video_source_path)\n",
    "\n",
    "\n",
    "#Make a temp dir to store all the frames\n",
    "#os.mkdir(video_source_path + '/frames')\n",
    "ped1_path = r\"/Users/neilsharma/Courses/COVID 19/dataset\"\n",
    "paths = os.listdir(ped1_path)\n",
    "\n",
    "for path in paths:\n",
    "    framepath = ped1_path + \"/\" + path\n",
    "    \n",
    "    \"\"\"for video in videos:\n",
    "        os.system( 'ffmpeg -i {}/{} -r 1/{} {}/frames/%03d.jpg'.format(video_source_path,video,fps,video_source_path))\"\"\"\n",
    "    images = os.listdir(framepath)\n",
    "    for image in images:\n",
    "            #image_path = framepath + \"/\" + image\n",
    "            image_path = framepath + \"/\" + image\n",
    "            img = load_img(image_path)\n",
    "            img = img_to_array(img)\n",
    "                \n",
    "                \n",
    "#             #Resize the Image to (224,224,3) for the network to be able to process it. \n",
    "#             img = imresize(img,(32,32,3))\n",
    "                \n",
    "            #Convert the Image to Grayscale\n",
    "                \n",
    "                \n",
    "            g = 0.2989*img[:,:,0] + 0.5870*img[:,:,1] + 0.1140*img[:,:,2]\n",
    "                \n",
    "            image_store.append(g)\n",
    "            \n",
    "            #store(image_path)\n",
    "\n",
    "\n",
    "image_store = np.array(image_store)\n",
    "image_store.shape\n",
    "a, b, c = image_store.shape\n",
    "        #Reshape to (227,227,batch_size)\n",
    "image_store.resize(b,c,a)\n",
    "#Normalize\n",
    "image_store=(image_store-image_store.mean())/(image_store.std())\n",
    "#Clip negative Values\n",
    "image_store=np.clip(image_store,0,1)\n",
    "#label = []\n",
    "#label[0] = image_store[:, :, 343]\n",
    "np.save('Crack.npy',image_store)\n",
    "print(\"Saved file to disk\")"
   ]
  }
 ],
 "metadata": {
  "kernelspec": {
   "display_name": "Python 3",
   "language": "python",
   "name": "python3"
  },
  "language_info": {
   "codemirror_mode": {
    "name": "ipython",
    "version": 3
   },
   "file_extension": ".py",
   "mimetype": "text/x-python",
   "name": "python",
   "nbconvert_exporter": "python",
   "pygments_lexer": "ipython3",
   "version": "3.7.4"
  }
 },
 "nbformat": 4,
 "nbformat_minor": 2
}
