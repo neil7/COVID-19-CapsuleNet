{
 "cells": [
  {
   "cell_type": "markdown",
   "metadata": {},
   "source": [
    "# Capsule Network Model for detecting Covid-19"
   ]
  },
  {
   "cell_type": "code",
   "execution_count": null,
   "metadata": {},
   "outputs": [],
   "source": [
    "import numpy as np\n",
    "from keras import layers, models\n",
    "from keras import backend as K\n",
    "from capsulelayers import CapsuleLayer, PrimaryCap\n",
    "from keras import utils as np_utils\n",
    "from sklearn.model_selection import train_test_split\n",
    "from sklearn.metrics import confusion_matrix\n",
    "\n",
    "K.set_image_data_format('channels_last')\n",
    "\n",
    "\n",
    "\n",
    "def CapsNet(input_shape, n_class):\n",
    "    \"\"\"\n",
    "    A Capsule Network on Capsule Network.\n",
    "    :param input_shape: data shape, 3d, [width, height, channels]\n",
    "    :param n_class: number of classes\n",
    "    :param routings: number of routing iterations\n",
    "    :return: Two Keras Models, the first one used for training, and the second one for evaluation.\n",
    "            `eval_model` can also be used for training.\n",
    "    \"\"\"\n",
    "    x = layers.Input(shape=input_shape)\n",
    "\n",
    "    # Layer 1: Just a conventional Conv2D layer\n",
    "    # Layer 1a: Convolutional layer for detecting the edges from the image\n",
    "    # Layer 1b: Relu layer for adding a non-linearity\n",
    "    conv1 = layers.Conv2D(filters=256, kernel_size=9, strides=1, padding='valid', activation='relu', name='conv1')(x)\n",
    "\n",
    "    # Layer 2: Conv2D layer with `squash` activation, then reshape to [None, num_capsule, dim_capsule]\n",
    "    # Layer 2a: 6*6*32\n",
    "    # Layer 2b: Squashing\n",
    "    primarycaps = PrimaryCap(conv1, dim_capsule=8, n_channels=32, kernel_size=9, strides=2, padding='valid')\n",
    "    \n",
    "    # Layer 3: Capsule layer. Routing algorithm works here.\n",
    "    digitcaps = CapsuleLayer(num_capsule=n_class, dim_capsule=16,\n",
    "                             name='digitcaps')(primarycaps)\n",
    "\n",
    "    \n",
    "    #Flattening\n",
    "    A = layers.Flatten()(digitcaps)\n",
    "\n",
    "    #Full connection\n",
    "    B = layers.Dense(32, input_shape = (2,), activation = 'relu')(A)\n",
    "    C = layers.Dense(n_class, activation = 'relu')(B)\n",
    "    D = layers.Softmax()(C)\n",
    "    \n",
    "\n",
    "    \n",
    "    # Models for training and evaluation (prediction)\n",
    "    train_model = models.Model([x], D)\n",
    "    \n",
    "    \n",
    "    return train_model"
   ]
  },
  {
   "cell_type": "markdown",
   "metadata": {},
   "source": [
    "# Generating the dataset\n",
    "## 0 - Positive\n",
    "## 1 - Negative"
   ]
  },
  {
   "cell_type": "code",
   "execution_count": null,
   "metadata": {},
   "outputs": [],
   "source": [
    "def load_data():\n",
    "    # grab the list of images in our dataset directory, then initialize\n",
    "    # the list of data (i.e., images) and class images\n",
    "    x_train = np.load('Covid.npy')\n",
    "    x_train = x_train.reshape(-1,224,224,1)\n",
    "    label = np.ones((50,),dtype = int)\n",
    "    \n",
    "    label[0:25] = 0\n",
    "    label[25:50] = 1\n",
    "    \n",
    "    n_classes = 2\n",
    "    \n",
    "    train_data = [x_train, label]\n",
    "    (x, y) = (train_data[0], train_data[1])\n",
    "    y = np_utils.to_categorical(y, n_classes)\n",
    "    X_train, X_test, y_train, y_test = train_test_split( x, y, test_size=0.2, random_state=42 )\n",
    "    \n",
    "    return (X_train, y_train), (X_test, y_test)"
   ]
  },
  {
   "cell_type": "markdown",
   "metadata": {},
   "source": [
    "# Training"
   ]
  },
  {
   "cell_type": "code",
   "execution_count": null,
   "metadata": {},
   "outputs": [],
   "source": [
    "if __name__ == \"__main__\":\n",
    "    # load data\n",
    "    (X_train, y_train), (X_test, y_test) = load_data()\n",
    "    input_shape = (224, 224, 1)\n",
    "    batch_size = 10\n",
    "    epochs = 25\n",
    "    n_class = 2\n",
    "    validation_data = (X_train, y_train)\n",
    "    # define model\n",
    "    model = CapsNet(input_shape=input_shape, n_class=n_class)\n",
    "    model.summary()\n",
    "    \n",
    "    model.compile(optimizer='adam',\n",
    "                  loss = 'mean_squared_error',\n",
    "                  metrics=['accuracy'])\n",
    "    \n",
    "    \n",
    "    model.fit(X_train, y_train, batch_size = batch_size,  epochs=epochs,\n",
    "              validation_data=validation_data)\n",
    "    \n",
    "    model.save('CapsNet_COVID19.h5')\n",
    "    print(\"Saved model to dsik\")\n",
    "\n",
    "#    from keras.preprocessing import image\n",
    "#    test_image = image.load_img('img.jpg', target_size = (28, 28))\n",
    "#    test_image = image.img_to_array(test_image)\n",
    "#    test_image = np.expand_dims(test_image, axis = 0)\n",
    "    result = model.predict_generator(X_test, y_test)\n",
    "    print (model.evaluate(X_test, y_test))\n",
    "    cm = confusion_matrix(y_test, result)\n",
    "    print(\"Confusion matrix - \")\n",
    "    print(cm)\n",
    "    #filter = dim"
   ]
  }
 ],
 "metadata": {
  "kernelspec": {
   "display_name": "Python 3",
   "language": "python",
   "name": "python3"
  },
  "language_info": {
   "codemirror_mode": {
    "name": "ipython",
    "version": 3
   },
   "file_extension": ".py",
   "mimetype": "text/x-python",
   "name": "python",
   "nbconvert_exporter": "python",
   "pygments_lexer": "ipython3",
   "version": "3.7.4"
  }
 },
 "nbformat": 4,
 "nbformat_minor": 2
}
